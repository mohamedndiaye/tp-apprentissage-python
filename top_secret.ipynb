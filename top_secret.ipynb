{
 "cells": [
  {
   "cell_type": "markdown",
   "metadata": {},
   "source": [
    "# PPGA : Python Programing Game Adventure"
   ]
  },
  {
   "cell_type": "code",
   "execution_count": 1,
   "metadata": {},
   "outputs": [
    {
     "data": {
      "text/plain": [
       "'\\nCreated on Tue Feb 20 13:00:36 2018\\n\\n@author: Lambert ROSIQUE\\n'"
      ]
     },
     "execution_count": 1,
     "metadata": {},
     "output_type": "execute_result"
    }
   ],
   "source": [
    "# -*- coding: utf-8 -*-\n",
    "\"\"\"\n",
    "Created on Tue Feb 20 13:00:36 2018\n",
    "\n",
    "@author: Lambert ROSIQUE\n",
    "\"\"\""
   ]
  },
  {
   "cell_type": "code",
   "execution_count": 2,
   "metadata": {
    "collapsed": true
   },
   "outputs": [],
   "source": [
    "### Solutions\n",
    "mdp = ''"
   ]
  },
  {
   "cell_type": "markdown",
   "metadata": {},
   "source": [
    "## Tutoriel"
   ]
  },
  {
   "cell_type": "code",
   "execution_count": 3,
   "metadata": {
    "collapsed": true
   },
   "outputs": [],
   "source": [
    "###\n",
    "### Solution tutoriel :\n",
    "###\n",
    "# Import de la librairie pour faire des requêtes HTTP\n",
    "import requests, json\n",
    "\n",
    "# URL du serveur en Flask (Python) pour le PPGA (à changer !)\n",
    "url_server = \"http://127.0.0.1:5000/\""
   ]
  },
  {
   "cell_type": "code",
   "execution_count": 4,
   "metadata": {},
   "outputs": [
    {
     "name": "stdout",
     "output_type": "stream",
     "text": [
      "Votre GET a fonctionné, essayez le POST à présent ! Essayez donc de regarder l'attribut 'suite' de cette réponse...\n"
     ]
    },
    {
     "data": {
      "text/plain": [
       "\"Essayez le code suivant : p = requests.post(url_server+'examples', data={'message': 'wow'})\""
      ]
     },
     "execution_count": 4,
     "metadata": {},
     "output_type": "execute_result"
    }
   ],
   "source": [
    "# Exemple d'appel GET, avec désérialisation de la réponse et récupération d'un paramètre reçu\n",
    "g = requests.get(url_server+\"examples\")\n",
    "g_json = json.loads(g.text)\n",
    "print(g_json['response'])\n",
    "g_json['suite']"
   ]
  },
  {
   "cell_type": "code",
   "execution_count": 5,
   "metadata": {},
   "outputs": [
    {
     "name": "stdout",
     "output_type": "stream",
     "text": [
      "Exercice tutoriel : Votre POST a fonctionnné, vous m'avez dit : wow. A présent, merci de vous rendre sur la page secrète '42'.\n"
     ]
    }
   ],
   "source": [
    "# Exemple d'appel POST, avec envoie d'information\n",
    "p = requests.post(url_server+'examples', data={'message': 'wow'})\n",
    "p_json = json.loads(p.text)\n",
    "print(\"Exercice tutoriel : \"+json.loads(p.text)['response'])"
   ]
  },
  {
   "cell_type": "markdown",
   "metadata": {},
   "source": [
    "## Maths"
   ]
  },
  {
   "cell_type": "code",
   "execution_count": 6,
   "metadata": {
    "collapsed": true
   },
   "outputs": [],
   "source": [
    "###\n",
    "### Solution exercice maths :\n",
    "###\n",
    "import math\n",
    "r = 3\n",
    "area = math.pi*math.pow(r,2)\n",
    "perim = 2*math.pi*r\n",
    "result = (area + perim)/2\n",
    "result = round(result, 2)"
   ]
  },
  {
   "cell_type": "code",
   "execution_count": null,
   "metadata": {
    "collapsed": true
   },
   "outputs": [],
   "source": [
    "# Alternatives :\n",
    "# Grâce à la notation from... import... on peut importer les fonctions et ne pas avoir à les écrire\n",
    "# Cette technique est dangereuse et source de problèmes\n",
    "from math import *\n",
    "result = round(1/2*pi*r**2 + pi*r,2)\n",
    "# On pouvait sinon donner un alias à math pour ne plus avoir à l'écrire en entier (qui est la meilleure solution)\n",
    "import math as m\n",
    "result = round(1/2*m.pi*r**2 + m.pi*r,2)"
   ]
  },
  {
   "cell_type": "code",
   "execution_count": 7,
   "metadata": {},
   "outputs": [
    {
     "name": "stdout",
     "output_type": "stream",
     "text": [
      "Exercice maths : Bravo c'était ça !\n"
     ]
    }
   ],
   "source": [
    "p = requests.post(url_server+'exercices/maths', data={'message': result})\n",
    "print(\"Exercice maths : \"+json.loads(p.text)['response'])\n",
    "mdp += json.loads(p.text)['mdp']"
   ]
  },
  {
   "cell_type": "markdown",
   "metadata": {},
   "source": [
    "## Fonction"
   ]
  },
  {
   "cell_type": "code",
   "execution_count": 8,
   "metadata": {
    "collapsed": true
   },
   "outputs": [],
   "source": [
    "###\n",
    "# Solution exercice fonction :\n",
    "###\n",
    "def puissance(x, exposant=1, arrondi=1):\n",
    "    return round(x**exposant,arrondi)\n",
    "calc = puissance(10, exposant=0.5, arrondi=3) + puissance(3.55)"
   ]
  },
  {
   "cell_type": "code",
   "execution_count": 9,
   "metadata": {},
   "outputs": [
    {
     "name": "stdout",
     "output_type": "stream",
     "text": [
      "Exercice fonction :  Bravo ! Continuons notre exploration Python avec les booléens, sur la page 'siseulement'\n"
     ]
    }
   ],
   "source": [
    "p = requests.post(url_server+'exercices/fonction', data={'message': calc})\n",
    "print(\"Exercice fonction : \",json.loads(p.text)['response'])\n",
    "mdp += json.loads(p.text)['mdp']"
   ]
  },
  {
   "cell_type": "markdown",
   "metadata": {},
   "source": [
    "## Condition"
   ]
  },
  {
   "cell_type": "code",
   "execution_count": 10,
   "metadata": {
    "collapsed": true
   },
   "outputs": [],
   "source": [
    "###\n",
    "# Solution exercice condition :\n",
    "###\n",
    "def fact(x):\n",
    "    if x <= 1:\n",
    "        return 1\n",
    "    return x*fact(x-1)"
   ]
  },
  {
   "cell_type": "code",
   "execution_count": 11,
   "metadata": {},
   "outputs": [
    {
     "name": "stdout",
     "output_type": "stream",
     "text": [
      "Exercice condition :  Bravo c'était ça !\n"
     ]
    }
   ],
   "source": [
    "p = requests.post(url_server+'exercices/condition', data={'message': fact(8)})\n",
    "print(\"Exercice condition : \",json.loads(p.text)['response'])\n",
    "mdp += json.loads(p.text)['mdp']"
   ]
  },
  {
   "cell_type": "markdown",
   "metadata": {},
   "source": [
    "## Boucle"
   ]
  },
  {
   "cell_type": "code",
   "execution_count": 12,
   "metadata": {
    "collapsed": true
   },
   "outputs": [],
   "source": [
    "###\n",
    "# Solution exercice boucle :\n",
    "###\n",
    "def sum_fact(x):\n",
    "    sum = cpt = 0\n",
    "    while cpt < x:\n",
    "        cpt += 1\n",
    "        # Factorial\n",
    "        part = 1\n",
    "        for i in range(cpt):\n",
    "            part *= i+1\n",
    "        # Sum\n",
    "        sum += part\n",
    "    return sum"
   ]
  },
  {
   "cell_type": "code",
   "execution_count": 13,
   "metadata": {
    "collapsed": true
   },
   "outputs": [],
   "source": [
    "# Alternative\n",
    "def sum_fact_alternative(x):\n",
    "    sum = x\n",
    "    for i in range(x-1,0,-1):\n",
    "        sum = (sum + 1)*i\n",
    "    return sum"
   ]
  },
  {
   "cell_type": "code",
   "execution_count": 14,
   "metadata": {},
   "outputs": [
    {
     "name": "stdout",
     "output_type": "stream",
     "text": [
      "Exercice boucle :  Bravo c'était ça ! Passons à la page 'dico' !\n"
     ]
    }
   ],
   "source": [
    "p = requests.post(url_server+'exercices/boucle', data={'message': sum_fact(7)})\n",
    "print(\"Exercice boucle : \",json.loads(p.text)['response'])\n",
    "mdp += json.loads(p.text)['mdp']"
   ]
  },
  {
   "cell_type": "markdown",
   "metadata": {},
   "source": [
    "## Liste"
   ]
  },
  {
   "cell_type": "code",
   "execution_count": 15,
   "metadata": {
    "collapsed": true
   },
   "outputs": [],
   "source": [
    "###\n",
    "# Solution exercice liste\n",
    "###\n",
    "title = \"Chaînes de caractères, listes et dictionnaires (le plus important)\"[5:-7]\n",
    "milieu = int(len(title)/2)\n",
    "resultat = title[-1:milieu-1:-1]+title[:milieu]"
   ]
  },
  {
   "cell_type": "code",
   "execution_count": 16,
   "metadata": {},
   "outputs": [
    {
     "name": "stdout",
     "output_type": "stream",
     "text": [
      "Exercice liste :  Bien joué, ce n'était pas évident ce coup-ci !\n"
     ]
    }
   ],
   "source": [
    "p = requests.post(url_server+'exercices/liste', data={'message': resultat})\n",
    "print(\"Exercice liste : \",json.loads(p.text)['response'])\n",
    "mdp += json.loads(p.text)['mdp']"
   ]
  },
  {
   "cell_type": "markdown",
   "metadata": {},
   "source": [
    "## Dictionnaire"
   ]
  },
  {
   "cell_type": "code",
   "execution_count": 17,
   "metadata": {
    "collapsed": true
   },
   "outputs": [],
   "source": [
    "###\n",
    "# Solution exercice dico\n",
    "###\n",
    "import re\n",
    "phrase = \"PPGA (Python Programing Game Adventure), créé en 42 minutes (ou pas), m'a rendu apte à faire de la data science et de l'intelligence artificielle en Python... En tout cas, on l'espère !\"\n",
    "phrase = ''.join(sorted(re.sub('[^a-z]', '', phrase.lower())))\n",
    "dico = {}\n",
    "for c in phrase:\n",
    "    dico[c] = dico.get(c,0) + 1"
   ]
  },
  {
   "cell_type": "code",
   "execution_count": 18,
   "metadata": {
    "collapsed": true
   },
   "outputs": [],
   "source": [
    "# Alternative\n",
    "dico = {a:phrase.count(a) for a in phrase}"
   ]
  },
  {
   "cell_type": "code",
   "execution_count": 19,
   "metadata": {},
   "outputs": [
    {
     "name": "stdout",
     "output_type": "stream",
     "text": [
      "Exercice dico :  Bien joué, c'était facile mais instructif non ? Si vous n'y voyez aucune 'objection!' rendez-vous à la page\n"
     ]
    }
   ],
   "source": [
    "p = requests.post(url_server+'exercices/dico', data={'message': repr(dico)})\n",
    "print(\"Exercice dico : \",json.loads(p.text)['response'])\n",
    "mdp += json.loads(p.text)['mdp']"
   ]
  },
  {
   "cell_type": "markdown",
   "metadata": {},
   "source": [
    "## Finally"
   ]
  },
  {
   "cell_type": "code",
   "execution_count": 20,
   "metadata": {
    "collapsed": true
   },
   "outputs": [],
   "source": [
    "###\n",
    "# Solution exercice finally\n",
    "###\n",
    "errors = []\n",
    "def fract(n):\n",
    "    return fract(n)\n",
    "try:\n",
    "    fract(3)\n",
    "except Exception as e:\n",
    "    errors.append(type(e).__name__)\n",
    "    # RecursionError"
   ]
  },
  {
   "cell_type": "code",
   "execution_count": 21,
   "metadata": {
    "collapsed": true
   },
   "outputs": [],
   "source": [
    "def increment(n):\n",
    "    return n+1\n",
    "try:\n",
    "    increment([3])\n",
    "except Exception as e:\n",
    "    errors.append(type(e).__name__)\n",
    "    # TypeError"
   ]
  },
  {
   "cell_type": "code",
   "execution_count": 22,
   "metadata": {
    "collapsed": true
   },
   "outputs": [],
   "source": [
    "def local_var():\n",
    "    local = 1\n",
    "try:\n",
    "    local_var()\n",
    "    print(local)\n",
    "except Exception as e:\n",
    "    errors.append(type(e).__name__)\n",
    "    # NameError"
   ]
  },
  {
   "cell_type": "code",
   "execution_count": 23,
   "metadata": {},
   "outputs": [
    {
     "name": "stdout",
     "output_type": "stream",
     "text": [
      "Exercice finally :  Bien joué, j'espère que c'était reposant... On se retrouve en tout cas à la page des 'weirdo'\n"
     ]
    }
   ],
   "source": [
    "p = requests.post(url_server+'exercices/finally', data={'message': repr(errors)})\n",
    "print(\"Exercice finally : \",json.loads(p.text)['response'])\n",
    "mdp += json.loads(p.text)['mdp']"
   ]
  },
  {
   "cell_type": "markdown",
   "metadata": {},
   "source": [
    "## Weirdo"
   ]
  },
  {
   "cell_type": "code",
   "execution_count": 24,
   "metadata": {},
   "outputs": [
    {
     "name": "stdout",
     "output_type": "stream",
     "text": [
      "Exercice heritage :  Et voilà ! Rendez-vous sur la page de conclusion : 'the_end'\n"
     ]
    }
   ],
   "source": [
    "###\n",
    "# Solution exercice weirdo\n",
    "###\n",
    "p = requests.post(url_server+'exercices/heritage', data={'message': 'ready'})\n",
    "print(\"Exercice heritage : \",json.loads(p.text)['response'])\n",
    "mdp += json.loads(p.text)['mdp']"
   ]
  },
  {
   "cell_type": "markdown",
   "metadata": {},
   "source": [
    "## Help I Am Desperate"
   ]
  },
  {
   "cell_type": "code",
   "execution_count": 27,
   "metadata": {},
   "outputs": [
    {
     "name": "stdout",
     "output_type": "stream",
     "text": [
      "Help :  Honte à Lambert qui a osé sauter des exercices (d'ailleurs, comment es-tu arrivé jusqu'ici :o)... Non je plaisante, c'est en cherchant mais surtout en demandant de l'aide et en apprenant des autres qu'on progresse ! Le mot-de-passe était 'gg_vous_avez_termodynamique_sans_h' (tu peux aller sur cette page, je t'ai donné l'accès jk), bonnes corrections ;)\n"
     ]
    }
   ],
   "source": [
    "###### Si vous n'avez pas trouvé le mot-de-passe\n",
    "p = requests.post(url_server+'exercices/help-i-am-desperate', data={'message': 'Lambert'})\n",
    "print(\"Help : \",json.loads(p.text)['response'])"
   ]
  },
  {
   "cell_type": "code",
   "execution_count": null,
   "metadata": {
    "collapsed": true
   },
   "outputs": [],
   "source": []
  }
 ],
 "metadata": {
  "kernelspec": {
   "display_name": "Python 3",
   "language": "python",
   "name": "python3"
  },
  "language_info": {
   "codemirror_mode": {
    "name": "ipython",
    "version": 3
   },
   "file_extension": ".py",
   "mimetype": "text/x-python",
   "name": "python",
   "nbconvert_exporter": "python",
   "pygments_lexer": "ipython3",
   "version": "3.6.3"
  }
 },
 "nbformat": 4,
 "nbformat_minor": 2
}
